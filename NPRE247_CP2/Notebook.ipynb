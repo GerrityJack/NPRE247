{
 "cells": [
  {
   "cell_type": "code",
   "execution_count": 8,
   "metadata": {},
   "outputs": [],
   "source": [
    "import numpy as np\n",
    "import numpy as np\n",
    "import numpy.linalg as la\n",
    "import matplotlib.pyplot as plt\n",
    "import json"
   ]
  },
  {
   "cell_type": "code",
   "execution_count": 10,
   "metadata": {},
   "outputs": [],
   "source": [
    "f = open(\"Two-group_data.0000\", \"r\")\n",
    "Input = f.readlines()\n",
    "f.close()\n",
    "\n",
    "group_data = np.ones((len(Input),3))\n",
    "for c, i in enumerate(Input):\n",
    "    group = Input[c].split(\" \")\n",
    "    group_data[c,0] = float(group[0])\n",
    "    group_data[c,1] = float(group[1])\n",
    "    group_data[c,2] = float(group[2])"
   ]
  },
  {
   "cell_type": "code",
   "execution_count": 11,
   "metadata": {},
   "outputs": [
    {
     "name": "stdout",
     "output_type": "stream",
     "text": [
      "[[0.0092 0.0046 1.    ]\n",
      " [0.0932 0.1139 0.    ]]\n"
     ]
    }
   ],
   "source": [
    "print(group_data)"
   ]
  },
  {
   "cell_type": "code",
   "execution_count": 16,
   "metadata": {},
   "outputs": [],
   "source": [
    "g = open(\"Two group scattering.0000\", \"r\")\n",
    "Input2 = g.readlines()\n",
    "g.close()\n",
    "\n",
    "\n",
    "scat_list = []\n",
    "for i in range(len(Input2)):\n",
    "    scat_list.append(Input2[i].split(\" \"))\n",
    "scat_data = np.zeros((len(Input),len(scat_list[0])))\n",
    "for i in range(len(scat_list)):\n",
    "    for j in range(len(scat_list[0])):\n",
    "        scat_data[i,j] = float(scat_list[i][j])"
   ]
  },
  {
   "cell_type": "code",
   "execution_count": 17,
   "metadata": {},
   "outputs": [
    {
     "name": "stdout",
     "output_type": "stream",
     "text": [
      "[[1.     0.    ]\n",
      " [0.0202 2.    ]]\n"
     ]
    }
   ],
   "source": [
    "print(scat_data)"
   ]
  },
  {
   "cell_type": "code",
   "execution_count": 18,
   "metadata": {},
   "outputs": [],
   "source": [
    "def Create_fission_matrix(group_data):\n",
    "    dis = len(group_data)\n",
    "    fission_matrix = np.ones((dis,dis))\n",
    "    for i in range(dis):\n",
    "        for j in range(dis):\n",
    "            fission_matrix[i,j] = group_data[i,2] * group_data[i,1]\n",
    "    return fission_matrix"
   ]
  },
  {
   "cell_type": "code",
   "execution_count": 19,
   "metadata": {},
   "outputs": [
    {
     "data": {
      "text/plain": [
       "array([[0.0046, 0.0046],\n",
       "       [0.    , 0.    ]])"
      ]
     },
     "execution_count": 19,
     "metadata": {},
     "output_type": "execute_result"
    }
   ],
   "source": [
    "Create_fission_matrix(group_data)"
   ]
  },
  {
   "cell_type": "code",
   "execution_count": 23,
   "metadata": {},
   "outputs": [],
   "source": [
    "def Create_absorbtion_matrix(group_data):\n",
    "    dis = len(group_data)\n",
    "    absorbtion_matrix = np.zeros((dis,dis))\n",
    "    for i in range(dis):\n",
    "        absorbtion_matrix[i][i] = group_data[i,0]\n",
    "    return absorbtion_matrix"
   ]
  },
  {
   "cell_type": "code",
   "execution_count": 24,
   "metadata": {},
   "outputs": [
    {
     "data": {
      "text/plain": [
       "array([[0.0092, 0.    ],\n",
       "       [0.    , 0.0932]])"
      ]
     },
     "execution_count": 24,
     "metadata": {},
     "output_type": "execute_result"
    }
   ],
   "source": [
    "Create_absorbtion_matrix(group_data)"
   ]
  },
  {
   "cell_type": "code",
   "execution_count": 29,
   "metadata": {},
   "outputs": [],
   "source": [
    "def Inscattering_matrix(scat_data):\n",
    "    Inscattering_matrix = np.zeros ((len(scat_data),len(scat_data[0])))\n",
    "    for i in range(len(scat_data)):\n",
    "        for j in range(len(scat_data.T)):\n",
    "            if i ==j:\n",
    "                continue\n",
    "            else:\n",
    "                Inscattering_matrix[j,i] = scat_data[i,j]\n",
    "    return Inscattering_matrix"
   ]
  },
  {
   "cell_type": "code",
   "execution_count": 30,
   "metadata": {},
   "outputs": [
    {
     "data": {
      "text/plain": [
       "array([[0.    , 0.0202],\n",
       "       [0.    , 0.    ]])"
      ]
     },
     "execution_count": 30,
     "metadata": {},
     "output_type": "execute_result"
    }
   ],
   "source": [
    "Inscattering_matrix(scat_data)"
   ]
  },
  {
   "cell_type": "code",
   "execution_count": 33,
   "metadata": {},
   "outputs": [],
   "source": [
    "def Outscattering_matrix(scat_data):\n",
    "    Outscattering_matrix = np.zeros((len(scat_data),len(scat_data[0])))\n",
    "    for i in range(-1,len(scat_data)-1):\n",
    "        Outscattering_matrix[i,i] = scat_data[i,i+1]\n",
    "    return Outscattering_matrix"
   ]
  },
  {
   "cell_type": "code",
   "execution_count": 34,
   "metadata": {},
   "outputs": [
    {
     "data": {
      "text/plain": [
       "array([[0.    , 0.    ],\n",
       "       [0.    , 0.0202]])"
      ]
     },
     "execution_count": 34,
     "metadata": {},
     "output_type": "execute_result"
    }
   ],
   "source": [
    "Outscattering_matrix(scat_data)"
   ]
  },
  {
   "cell_type": "code",
   "execution_count": 54,
   "metadata": {},
   "outputs": [],
   "source": [
    "k = np.zeros(100)\n",
    "k[0] = 1\n",
    "flux = np.zeros((len(scat_data),100))\n",
    "flux[:,0] = np.ones(len(scat_data))\n",
    "\n",
    "fission_matrix = Create_fission_matrix(group_data)\n",
    "absorbtion_matrix = Create_absorbtion_matrix(group_data)\n",
    "outscattering_matrix = Outscattering_matrix(scat_data)\n",
    "inscattering_matrix = Inscattering_matrix(scat_data)\n",
    "\n",
    "mitigation_matrix = absorbtion_matrix + outscattering_matrix - inscattering_matrix\n",
    "\n",
    "b_matrix = la.inv(mitigation_matrix) @ fission_matrix\n",
    "\n",
    "eigenvalues, eigenvectors = la.eig(b_matrix)"
   ]
  },
  {
   "cell_type": "code",
   "execution_count": 51,
   "metadata": {},
   "outputs": [],
   "source": [
    "def power_iteration(M, x):\n",
    "    # Perform power iteration and return steady state vector xstar\n",
    "    xc = x.copy()\n",
    "    A = np.linalg.matrix_power(M,20)\n",
    "    xc = A @ xc\n",
    "    return xc\n",
    "\n",
    "def Power_iteration(A):\n",
    "    B = A.copy\n",
    "    for c,i in enumerate(A.T):\n",
    "        B[:,c] = i/la.norm(i)\n",
    "    return la.matrix_power(B,100) @ (np.ones(len(A))/len(A))"
   ]
  },
  {
   "cell_type": "code",
   "execution_count": 52,
   "metadata": {},
   "outputs": [
    {
     "data": {
      "text/plain": [
       "array([9.43466646e-42, 1.22261087e-21])"
      ]
     },
     "execution_count": 52,
     "metadata": {},
     "output_type": "execute_result"
    }
   ],
   "source": [
    "power_iteration(absorbtion_matrix,[0.5,0.5])"
   ]
  },
  {
   "cell_type": "code",
   "execution_count": 55,
   "metadata": {},
   "outputs": [
    {
     "ename": "ValueError",
     "evalue": "matmul: Input operand 1 has a mismatch in its core dimension 0, with gufunc signature (n?,k),(k,m?)->(n?,m?) (size 100 is different from 2)",
     "output_type": "error",
     "traceback": [
      "\u001b[1;31m---------------------------------------------------------------------------\u001b[0m",
      "\u001b[1;31mValueError\u001b[0m                                Traceback (most recent call last)",
      "Cell \u001b[1;32mIn[55], line 2\u001b[0m\n\u001b[0;32m      1\u001b[0m \u001b[38;5;28;01mfor\u001b[39;00m i \u001b[38;5;129;01min\u001b[39;00m \u001b[38;5;28mrange\u001b[39m(\u001b[38;5;241m99\u001b[39m):\n\u001b[1;32m----> 2\u001b[0m     flux[i\u001b[38;5;241m+\u001b[39m\u001b[38;5;241m1\u001b[39m] \u001b[38;5;241m=\u001b[39m (\u001b[43mb_matrix\u001b[49m\u001b[43m \u001b[49m\u001b[38;5;241;43m@\u001b[39;49m\u001b[43m \u001b[49m\u001b[43mflux\u001b[49m\u001b[43m[\u001b[49m\u001b[43mi\u001b[49m\u001b[43m]\u001b[49m) \u001b[38;5;241m/\u001b[39m la\u001b[38;5;241m.\u001b[39mnorm(b_matrix \u001b[38;5;241m@\u001b[39m flux[i])\n\u001b[0;32m      3\u001b[0m \u001b[38;5;28;01mfor\u001b[39;00m i \u001b[38;5;129;01min\u001b[39;00m \u001b[38;5;28mrange\u001b[39m(\u001b[38;5;241m99\u001b[39m):\n\u001b[0;32m      4\u001b[0m     k[i\u001b[38;5;241m+\u001b[39m\u001b[38;5;241m1\u001b[39m] \u001b[38;5;241m=\u001b[39m ((b_matrix \u001b[38;5;241m@\u001b[39m flux[i\u001b[38;5;241m+\u001b[39m\u001b[38;5;241m1\u001b[39m])\u001b[38;5;241m.\u001b[39mT \u001b[38;5;241m@\u001b[39m flux[i\u001b[38;5;241m+\u001b[39m\u001b[38;5;241m1\u001b[39m])\u001b[38;5;241m/\u001b[39m(flux[i\u001b[38;5;241m+\u001b[39m\u001b[38;5;241m1\u001b[39m]\u001b[38;5;241m.\u001b[39mT \u001b[38;5;241m@\u001b[39m flux[i\u001b[38;5;241m+\u001b[39m\u001b[38;5;241m1\u001b[39m])\n",
      "\u001b[1;31mValueError\u001b[0m: matmul: Input operand 1 has a mismatch in its core dimension 0, with gufunc signature (n?,k),(k,m?)->(n?,m?) (size 100 is different from 2)"
     ]
    }
   ],
   "source": [
    "for i in range(99):\n",
    "    flux[i+1] = (b_matrix @ flux[i]) / la.norm(b_matrix @ flux[i])\n",
    "for i in range(99):\n",
    "    k[i+1] = ((b_matrix @ flux[i+1]).T @ flux[i+1])/(flux[i+1].T @ flux[i+1])"
   ]
  },
  {
   "cell_type": "code",
   "execution_count": null,
   "metadata": {},
   "outputs": [],
   "source": []
  }
 ],
 "metadata": {
  "kernelspec": {
   "display_name": "Python 3",
   "language": "python",
   "name": "python3"
  },
  "language_info": {
   "codemirror_mode": {
    "name": "ipython",
    "version": 3
   },
   "file_extension": ".py",
   "mimetype": "text/x-python",
   "name": "python",
   "nbconvert_exporter": "python",
   "pygments_lexer": "ipython3",
   "version": "3.12.3"
  }
 },
 "nbformat": 4,
 "nbformat_minor": 2
}
