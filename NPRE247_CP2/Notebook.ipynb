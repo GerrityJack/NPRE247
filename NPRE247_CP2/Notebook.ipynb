{
 "cells": [
  {
   "cell_type": "code",
   "execution_count": 66,
   "metadata": {},
   "outputs": [],
   "source": [
    "import numpy as np\n",
    "import numpy as np\n",
    "import numpy.linalg as la\n",
    "import matplotlib.pyplot as plt\n",
    "import json"
   ]
  },
  {
   "cell_type": "code",
   "execution_count": 67,
   "metadata": {},
   "outputs": [],
   "source": [
    "f = open(\"Eight_group_data.0000\", \"r\")\n",
    "Input = f.readlines()\n",
    "f.close()\n",
    "\n",
    "group_data = np.ones((len(Input),3))\n",
    "for c, i in enumerate(Input):\n",
    "    group = Input[c].split(\" \")\n",
    "    group_data[c,0] = float(group[0])\n",
    "    group_data[c,1] = float(group[1])\n",
    "    group_data[c,2] = float(group[2])"
   ]
  },
  {
   "cell_type": "code",
   "execution_count": 68,
   "metadata": {},
   "outputs": [
    {
     "name": "stdout",
     "output_type": "stream",
     "text": [
      "[[0.0056 0.0134 0.3507]\n",
      " [0.0029 0.0056 0.4105]\n",
      " [0.0025 0.0011 0.2388]\n",
      " [0.0133 0.0067 0.    ]\n",
      " [0.0473 0.022  0.    ]\n",
      " [0.018  0.0222 0.    ]\n",
      " [0.0558 0.0897 0.    ]\n",
      " [0.1798 0.2141 0.    ]]\n"
     ]
    }
   ],
   "source": [
    "print(group_data)"
   ]
  },
  {
   "cell_type": "code",
   "execution_count": 71,
   "metadata": {},
   "outputs": [],
   "source": [
    "g = open(\"Eight_group_scattering.000\", \"r\")\n",
    "Input2 = g.readlines()\n",
    "g.close()\n",
    "\n",
    "\n",
    "scat_list = []\n",
    "for i in range(len(Input2)):\n",
    "    scat_list.append(Input2[i].split(\" \"))\n",
    "scat_data = np.zeros((len(Input),len(scat_list[0])))\n",
    "for i in range(len(scat_list)):\n",
    "    for j in range(len(scat_list[0])):\n",
    "        scat_data[i,j] = float(scat_list[i][j])"
   ]
  },
  {
   "cell_type": "code",
   "execution_count": 72,
   "metadata": {},
   "outputs": [
    {
     "name": "stdout",
     "output_type": "stream",
     "text": [
      "[[1.1790e-01 0.0000e+00 0.0000e+00 0.0000e+00 0.0000e+00 0.0000e+00\n",
      "  0.0000e+00 0.0000e+00]\n",
      " [5.3000e-02 1.9490e-01 0.0000e+00 0.0000e+00 0.0000e+00 0.0000e+00\n",
      "  0.0000e+00 0.0000e+00]\n",
      " [3.0100e-02 1.1590e-01 5.8680e-01 0.0000e+00 0.0000e+00 0.0000e+00\n",
      "  0.0000e+00 0.0000e+00]\n",
      " [1.0000e-04 5.0000e-04 7.6900e-02 8.2340e+03 0.0000e+00 0.0000e+00\n",
      "  0.0000e+00 0.0000e+00]\n",
      " [0.0000e+00 0.0000e+00 1.9000e-03 1.9610e-01 8.1800e-01 0.0000e+00\n",
      "  0.0000e+00 0.0000e+00]\n",
      " [0.0000e+00 0.0000e+00 0.0000e+00 5.0000e-03 1.7370e-01 6.9020e-01\n",
      "  2.3000e-03 0.0000e+00]\n",
      " [0.0000e+00 0.0000e+00 0.0000e+00 7.0000e-04 2.4600e-02 2.7070e-01\n",
      "  8.6260e-01 2.7500e-02]\n",
      " [0.0000e+00 0.0000e+00 0.0000e+00 1.0000e-04 7.3000e-03 5.5000e-02\n",
      "  3.5890e-01 1.9761e+00]]\n"
     ]
    }
   ],
   "source": [
    "print(scat_data)"
   ]
  },
  {
   "cell_type": "code",
   "execution_count": 84,
   "metadata": {},
   "outputs": [],
   "source": [
    "def Create_fission_matrix(group_data):\n",
    "    dis = len(group_data)\n",
    "    fission_matrix = np.ones((dis,dis))\n",
    "    for i in range(dis):\n",
    "        for j in range(dis):\n",
    "            fission_matrix[i,j] = group_data[i,2] * group_data[j,1]\n",
    "    return fission_matrix"
   ]
  },
  {
   "cell_type": "code",
   "execution_count": 85,
   "metadata": {},
   "outputs": [
    {
     "data": {
      "text/plain": [
       "array([[0.00469938, 0.00196392, 0.00038577, 0.00234969, 0.0077154 ,\n",
       "        0.00778554, 0.03145779, 0.07508487],\n",
       "       [0.0055007 , 0.0022988 , 0.00045155, 0.00275035, 0.009031  ,\n",
       "        0.0091131 , 0.03682185, 0.08788805],\n",
       "       [0.00319992, 0.00133728, 0.00026268, 0.00159996, 0.0052536 ,\n",
       "        0.00530136, 0.02142036, 0.05112708],\n",
       "       [0.        , 0.        , 0.        , 0.        , 0.        ,\n",
       "        0.        , 0.        , 0.        ],\n",
       "       [0.        , 0.        , 0.        , 0.        , 0.        ,\n",
       "        0.        , 0.        , 0.        ],\n",
       "       [0.        , 0.        , 0.        , 0.        , 0.        ,\n",
       "        0.        , 0.        , 0.        ],\n",
       "       [0.        , 0.        , 0.        , 0.        , 0.        ,\n",
       "        0.        , 0.        , 0.        ],\n",
       "       [0.        , 0.        , 0.        , 0.        , 0.        ,\n",
       "        0.        , 0.        , 0.        ]])"
      ]
     },
     "execution_count": 85,
     "metadata": {},
     "output_type": "execute_result"
    }
   ],
   "source": [
    "Create_fission_matrix(group_data)"
   ]
  },
  {
   "cell_type": "code",
   "execution_count": 75,
   "metadata": {},
   "outputs": [],
   "source": [
    "def Create_absorbtion_matrix(group_data):\n",
    "    dis = len(group_data)\n",
    "    absorbtion_matrix = np.zeros((dis,dis))\n",
    "    for i in range(dis):\n",
    "        absorbtion_matrix[i][i] = group_data[i,0]\n",
    "    return absorbtion_matrix"
   ]
  },
  {
   "cell_type": "code",
   "execution_count": 76,
   "metadata": {},
   "outputs": [
    {
     "data": {
      "text/plain": [
       "array([[0.0056, 0.    , 0.    , 0.    , 0.    , 0.    , 0.    , 0.    ],\n",
       "       [0.    , 0.0029, 0.    , 0.    , 0.    , 0.    , 0.    , 0.    ],\n",
       "       [0.    , 0.    , 0.0025, 0.    , 0.    , 0.    , 0.    , 0.    ],\n",
       "       [0.    , 0.    , 0.    , 0.0133, 0.    , 0.    , 0.    , 0.    ],\n",
       "       [0.    , 0.    , 0.    , 0.    , 0.0473, 0.    , 0.    , 0.    ],\n",
       "       [0.    , 0.    , 0.    , 0.    , 0.    , 0.018 , 0.    , 0.    ],\n",
       "       [0.    , 0.    , 0.    , 0.    , 0.    , 0.    , 0.0558, 0.    ],\n",
       "       [0.    , 0.    , 0.    , 0.    , 0.    , 0.    , 0.    , 0.1798]])"
      ]
     },
     "execution_count": 76,
     "metadata": {},
     "output_type": "execute_result"
    }
   ],
   "source": [
    "Create_absorbtion_matrix(group_data)"
   ]
  },
  {
   "cell_type": "code",
   "execution_count": 77,
   "metadata": {},
   "outputs": [],
   "source": [
    "def Outscattering_matrix(scat_data):\n",
    "    Outscattering_matrix = np.zeros((len(scat_data),len(scat_data[0])))\n",
    "    for i in range(len(scat_data)):\n",
    "        for j in range(len(scat_data.T)):\n",
    "            if j == i:\n",
    "                continue\n",
    "            else:\n",
    "                Outscattering_matrix[i,i] += scat_data[j,i]\n",
    "    return Outscattering_matrix"
   ]
  },
  {
   "cell_type": "code",
   "execution_count": 78,
   "metadata": {},
   "outputs": [
    {
     "data": {
      "text/plain": [
       "array([[0.0832, 0.    , 0.    , 0.    , 0.    , 0.    , 0.    , 0.    ],\n",
       "       [0.    , 0.1164, 0.    , 0.    , 0.    , 0.    , 0.    , 0.    ],\n",
       "       [0.    , 0.    , 0.0788, 0.    , 0.    , 0.    , 0.    , 0.    ],\n",
       "       [0.    , 0.    , 0.    , 0.2019, 0.    , 0.    , 0.    , 0.    ],\n",
       "       [0.    , 0.    , 0.    , 0.    , 0.2056, 0.    , 0.    , 0.    ],\n",
       "       [0.    , 0.    , 0.    , 0.    , 0.    , 0.3257, 0.    , 0.    ],\n",
       "       [0.    , 0.    , 0.    , 0.    , 0.    , 0.    , 0.3612, 0.    ],\n",
       "       [0.    , 0.    , 0.    , 0.    , 0.    , 0.    , 0.    , 0.0275]])"
      ]
     },
     "execution_count": 78,
     "metadata": {},
     "output_type": "execute_result"
    }
   ],
   "source": [
    "Outscattering_matrix(scat_data)"
   ]
  },
  {
   "cell_type": "code",
   "execution_count": 79,
   "metadata": {},
   "outputs": [],
   "source": [
    "def Inscattering_matrix(scat_data):\n",
    "    Inscattering_matrix = scat_data.copy()\n",
    "    for i in range(len(scat_data)):\n",
    "       Inscattering_matrix[i,i] = 0\n",
    "    return Inscattering_matrix"
   ]
  },
  {
   "cell_type": "code",
   "execution_count": 80,
   "metadata": {},
   "outputs": [
    {
     "data": {
      "text/plain": [
       "array([[0.000e+00, 0.000e+00, 0.000e+00, 0.000e+00, 0.000e+00, 0.000e+00,\n",
       "        0.000e+00, 0.000e+00],\n",
       "       [5.300e-02, 0.000e+00, 0.000e+00, 0.000e+00, 0.000e+00, 0.000e+00,\n",
       "        0.000e+00, 0.000e+00],\n",
       "       [3.010e-02, 1.159e-01, 0.000e+00, 0.000e+00, 0.000e+00, 0.000e+00,\n",
       "        0.000e+00, 0.000e+00],\n",
       "       [1.000e-04, 5.000e-04, 7.690e-02, 0.000e+00, 0.000e+00, 0.000e+00,\n",
       "        0.000e+00, 0.000e+00],\n",
       "       [0.000e+00, 0.000e+00, 1.900e-03, 1.961e-01, 0.000e+00, 0.000e+00,\n",
       "        0.000e+00, 0.000e+00],\n",
       "       [0.000e+00, 0.000e+00, 0.000e+00, 5.000e-03, 1.737e-01, 0.000e+00,\n",
       "        2.300e-03, 0.000e+00],\n",
       "       [0.000e+00, 0.000e+00, 0.000e+00, 7.000e-04, 2.460e-02, 2.707e-01,\n",
       "        0.000e+00, 2.750e-02],\n",
       "       [0.000e+00, 0.000e+00, 0.000e+00, 1.000e-04, 7.300e-03, 5.500e-02,\n",
       "        3.589e-01, 0.000e+00]])"
      ]
     },
     "execution_count": 80,
     "metadata": {},
     "output_type": "execute_result"
    }
   ],
   "source": [
    "Inscattering_matrix(scat_data)"
   ]
  },
  {
   "cell_type": "code",
   "execution_count": 92,
   "metadata": {},
   "outputs": [
    {
     "name": "stdout",
     "output_type": "stream",
     "text": [
      "[ 0.00000000e+00+0.00000000e+00j  1.09003100e+00+0.00000000e+00j\n",
      "  2.43595629e-17+1.53722661e-17j  2.43595629e-17-1.53722661e-17j\n",
      " -1.27871831e-17+1.25738272e-17j -1.27871831e-17-1.25738272e-17j\n",
      " -8.48418492e-19+1.82231485e-18j -8.48418492e-19-1.82231485e-18j]\n"
     ]
    }
   ],
   "source": [
    "k = np.zeros(3)\n",
    "k[0] = 1\n",
    "flux = np.zeros((len(scat_data),3))\n",
    "flux[:,0] = np.ones(len(scat_data))\n",
    "\n",
    "fission_matrix = Create_fission_matrix(group_data)\n",
    "absorbtion_matrix = Create_absorbtion_matrix(group_data)\n",
    "outscattering_matrix = Outscattering_matrix(scat_data)\n",
    "inscattering_matrix = Inscattering_matrix(scat_data)\n",
    "\n",
    "mitigation_matrix = absorbtion_matrix + outscattering_matrix - inscattering_matrix\n",
    "\n",
    "b_matrix = la.inv(mitigation_matrix) @ fission_matrix\n",
    "\n",
    "eigenvalues, eigenvectors = la.eig(b_matrix)\n",
    "print(eigenvalues)"
   ]
  },
  {
   "cell_type": "code",
   "execution_count": 94,
   "metadata": {},
   "outputs": [],
   "source": [
    "for i in range(2):\n",
    "    flux[:,i+1] = (b_matrix @ flux[:,i]) / la.norm(b_matrix @ flux[:,i])\n",
    "for i in range(2):\n",
    "    k[i+1] = ((b_matrix @ flux[:,i+1]).T @ flux[:,i+1])/(flux[:,i+1].T @ flux[:,i+1])"
   ]
  },
  {
   "cell_type": "code",
   "execution_count": 95,
   "metadata": {},
   "outputs": [
    {
     "name": "stdout",
     "output_type": "stream",
     "text": [
      "[1.       1.090031 1.090031]\n",
      "[[1.         0.26158725 0.26158725]\n",
      " [1.         0.3441239  0.3441239 ]\n",
      " [1.         0.78197886 0.78197886]\n",
      " [1.         0.280355   0.280355  ]\n",
      " [1.         0.22326364 0.22326364]\n",
      " [1.         0.1176114  0.1176114 ]\n",
      " [1.         0.10450765 0.10450765]\n",
      " [1.         0.22013644 0.22013644]]\n"
     ]
    }
   ],
   "source": [
    "print(k)\n",
    "print(flux)"
   ]
  },
  {
   "cell_type": "code",
   "execution_count": null,
   "metadata": {},
   "outputs": [],
   "source": []
  }
 ],
 "metadata": {
  "kernelspec": {
   "display_name": "Python 3",
   "language": "python",
   "name": "python3"
  },
  "language_info": {
   "codemirror_mode": {
    "name": "ipython",
    "version": 3
   },
   "file_extension": ".py",
   "mimetype": "text/x-python",
   "name": "python",
   "nbconvert_exporter": "python",
   "pygments_lexer": "ipython3",
   "version": "3.12.3"
  }
 },
 "nbformat": 4,
 "nbformat_minor": 2
}
