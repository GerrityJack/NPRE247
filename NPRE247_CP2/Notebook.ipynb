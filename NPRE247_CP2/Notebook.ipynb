{
 "cells": [
  {
   "cell_type": "code",
   "execution_count": 8,
   "metadata": {},
   "outputs": [],
   "source": [
    "import numpy as np\n",
    "import numpy as np\n",
    "import numpy.linalg as la\n",
    "import matplotlib.pyplot as plt\n",
    "import json"
   ]
  },
  {
   "cell_type": "code",
   "execution_count": 10,
   "metadata": {},
   "outputs": [],
   "source": [
    "f = open(\"Two-group_data.0000\", \"r\")\n",
    "Input = f.readlines()\n",
    "f.close()\n",
    "\n",
    "group_data = np.ones((len(Input),3))\n",
    "for c, i in enumerate(Input):\n",
    "    group = Input[c].split(\" \")\n",
    "    group_data[c,0] = float(group[0])\n",
    "    group_data[c,1] = float(group[1])\n",
    "    group_data[c,2] = float(group[2])"
   ]
  },
  {
   "cell_type": "code",
   "execution_count": 11,
   "metadata": {},
   "outputs": [
    {
     "name": "stdout",
     "output_type": "stream",
     "text": [
      "[[0.0092 0.0046 1.    ]\n",
      " [0.0932 0.1139 0.    ]]\n"
     ]
    }
   ],
   "source": [
    "print(group_data)"
   ]
  },
  {
   "cell_type": "code",
   "execution_count": 16,
   "metadata": {},
   "outputs": [],
   "source": [
    "g = open(\"Two group scattering.0000\", \"r\")\n",
    "Input2 = g.readlines()\n",
    "g.close()\n",
    "\n",
    "\n",
    "scat_list = []\n",
    "for i in range(len(Input2)):\n",
    "    scat_list.append(Input2[i].split(\" \"))\n",
    "scat_data = np.zeros((len(Input),len(scat_list[0])))\n",
    "for i in range(len(scat_list)):\n",
    "    for j in range(len(scat_list[0])):\n",
    "        scat_data[i,j] = float(scat_list[i][j])"
   ]
  },
  {
   "cell_type": "code",
   "execution_count": 17,
   "metadata": {},
   "outputs": [
    {
     "name": "stdout",
     "output_type": "stream",
     "text": [
      "[[1.     0.    ]\n",
      " [0.0202 2.    ]]\n"
     ]
    }
   ],
   "source": [
    "print(scat_data)"
   ]
  },
  {
   "cell_type": "code",
   "execution_count": 18,
   "metadata": {},
   "outputs": [],
   "source": [
    "def Create_fission_matrix(group_data):\n",
    "    dis = len(group_data)\n",
    "    fission_matrix = np.ones((dis,dis))\n",
    "    for i in range(dis):\n",
    "        for j in range(dis):\n",
    "            fission_matrix[i,j] = group_data[i,2] * group_data[i,1]\n",
    "    return fission_matrix"
   ]
  },
  {
   "cell_type": "code",
   "execution_count": 19,
   "metadata": {},
   "outputs": [
    {
     "data": {
      "text/plain": [
       "array([[0.0046, 0.0046],\n",
       "       [0.    , 0.    ]])"
      ]
     },
     "execution_count": 19,
     "metadata": {},
     "output_type": "execute_result"
    }
   ],
   "source": [
    "Create_fission_matrix(group_data)"
   ]
  },
  {
   "cell_type": "code",
   "execution_count": 23,
   "metadata": {},
   "outputs": [],
   "source": [
    "def Create_absorbtion_matrix(group_data):\n",
    "    dis = len(group_data)\n",
    "    absorbtion_matrix = np.zeros((dis,dis))\n",
    "    for i in range(dis):\n",
    "        absorbtion_matrix[i][i] = group_data[i,0]\n",
    "    return absorbtion_matrix"
   ]
  },
  {
   "cell_type": "code",
   "execution_count": 24,
   "metadata": {},
   "outputs": [
    {
     "data": {
      "text/plain": [
       "array([[0.0092, 0.    ],\n",
       "       [0.    , 0.0932]])"
      ]
     },
     "execution_count": 24,
     "metadata": {},
     "output_type": "execute_result"
    }
   ],
   "source": [
    "Create_absorbtion_matrix(group_data)"
   ]
  },
  {
   "cell_type": "code",
   "execution_count": null,
   "metadata": {},
   "outputs": [],
   "source": []
  }
 ],
 "metadata": {
  "kernelspec": {
   "display_name": "Python 3",
   "language": "python",
   "name": "python3"
  },
  "language_info": {
   "codemirror_mode": {
    "name": "ipython",
    "version": 3
   },
   "file_extension": ".py",
   "mimetype": "text/x-python",
   "name": "python",
   "nbconvert_exporter": "python",
   "pygments_lexer": "ipython3",
   "version": "3.12.3"
  }
 },
 "nbformat": 4,
 "nbformat_minor": 2
}
